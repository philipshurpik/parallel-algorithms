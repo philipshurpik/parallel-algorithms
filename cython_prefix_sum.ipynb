{
 "cells": [
  {
   "cell_type": "code",
   "execution_count": 1,
   "metadata": {},
   "outputs": [],
   "source": [
    "%load_ext Cython"
   ]
  },
  {
   "cell_type": "code",
   "execution_count": 2,
   "metadata": {},
   "outputs": [],
   "source": [
    "%%cython\n",
    "import numpy as np\n",
    "cimport numpy as np\n",
    "def c_prefix_sum(int [:] array):\n",
    "    cdef i = 0\n",
    "    cdef int [:] b = np.zeros(len(array) + 1, dtype=np.int32)\n",
    "    for i in range(len(array)):\n",
    "        b[i+1] = b[i] + array[i]\n",
    "    return np.asarray(b)"
   ]
  },
  {
   "cell_type": "code",
   "execution_count": 3,
   "metadata": {},
   "outputs": [],
   "source": [
    "a = np.array([3, 5, 3, 1, 6])\n",
    "b = np.random.randint(1, 10, 2**16, dtype=np.int32)\n",
    "c = np.random.randint(1, 10, 2**22, dtype=np.int32)\n",
    "d = np.random.randint(1, 10, 2**28, dtype=np.int32)"
   ]
  },
  {
   "cell_type": "code",
   "execution_count": 4,
   "metadata": {},
   "outputs": [
    {
     "name": "stdout",
     "output_type": "stream",
     "text": [
      "193 ms ± 13.6 ms per loop (mean ± std. dev. of 5 runs, 1 loop each)\n"
     ]
    }
   ],
   "source": [
    "%timeit -r5 -n1 c_prefix_sum(c)"
   ]
  },
  {
   "cell_type": "code",
   "execution_count": 5,
   "metadata": {},
   "outputs": [],
   "source": [
    "### Cython code works ~10 times faster than Python... Let's check parallel version and compare"
   ]
  },
  {
   "cell_type": "code",
   "execution_count": 6,
   "metadata": {},
   "outputs": [],
   "source": [
    "%%cython --compile-args=-fopenmp --link-args=-fopenmp --force\n",
    "import numpy as np\n",
    "cimport numpy as np\n",
    "from cython.view cimport array as cvarray\n",
    "from cython.parallel import prange\n",
    "from libc.math cimport log2, pow\n",
    "from cython import boundscheck\n",
    "\n",
    "@boundscheck(False)\n",
    "cdef void c_summator(int [:] array, int level, int start, int end, int inc) nogil:\n",
    "    cdef int sum_index = 0\n",
    "    for sum_index from start <= sum_index < end by inc:\n",
    "       array[sum_index] = array[sum_index] + array[sum_index - <int>(pow(2, (level-1)))]\n",
    "\n",
    "@boundscheck(False)\n",
    "cdef void c_down_summator(int [:] array, int level, int start, int end, int inc) nogil:\n",
    "    cdef int sum_index = 0, val = 0\n",
    "    for sum_index from start <= sum_index < end by inc:\n",
    "        val = array[sum_index]\n",
    "        array[sum_index] = array[sum_index] + array[sum_index - <int>pow(2, (level-1))]\n",
    "        array[sum_index - <int>pow(2, (level-1))] = val\n",
    "\n",
    "\n",
    "@boundscheck(False)\n",
    "def c_run(int [:] array, int start, int end, int inc, int max_cores):\n",
    "    cdef int length = len(array)\n",
    "    cdef int processing_field, core_number, lbound, rbound, core = 0, level = 0, start_bound, inc_bound\n",
    "    for level in range(start, end, inc):\n",
    "        processing_field = int(pow(2, level))\n",
    "        core_number = int(length / processing_field)\n",
    "        inc_bound = int(pow(2, level))\n",
    "        if core_number > max_cores:\n",
    "            core_number = max_cores\n",
    "            processing_field = int(length / core_number)\n",
    "        #print(\"Level:\", level, \" Used cores:\", core_number)\n",
    "        for core in prange(core_number, schedule='guided', num_threads=core_number, nogil=True):\n",
    "            lbound = int(processing_field * core)\n",
    "            rbound = int(processing_field * (core + 1))\n",
    "            start_bound = lbound + <int>pow(2, level) - 1\n",
    "            #print(\"Level:\", level, \"   Core: \", core, \"   Processing_field: \", processing_field, \"   L: \", lbound, \"   R: \", rbound)\n",
    "            if inc == 1:\n",
    "                c_summator(array, level, start=start_bound, end=rbound, inc=inc_bound)\n",
    "            else: \n",
    "                c_down_summator(array, level, start=start_bound, end=rbound, inc=inc_bound)\n",
    "    return array\n",
    "\n",
    "\n",
    "@boundscheck(False)\n",
    "def c_parallel_prefix_sum(int [:] array, int max_cores=8):\n",
    "    cdef int length = len(array)\n",
    "    cdef int depth = int(log2(length))\n",
    "    cdef int [:] array_view = array\n",
    "    \n",
    "    # print(\"Depth:\", depth)\n",
    "    cdef int [:] b = np.copy(array)\n",
    "    \n",
    "    c_run(b, start=1, end=depth + 1, inc=1, max_cores=max_cores)\n",
    "    b = np.insert(b, length - 1, 0)\n",
    "    #print(\"After summator:\", b)\n",
    "    \n",
    "    b = c_run(b, start=depth, end=0, inc=-1, max_cores=max_cores)\n",
    "    #print(\"After down summator:\", b)\n",
    "    return np.asarray(b)"
   ]
  },
  {
   "cell_type": "code",
   "execution_count": 7,
   "metadata": {},
   "outputs": [
    {
     "name": "stdout",
     "output_type": "stream",
     "text": [
      "3.43 ms ± 281 µs per loop (mean ± std. dev. of 5 runs, 1 loop each)\n",
      "2.39 ms ± 634 µs per loop (mean ± std. dev. of 5 runs, 1 loop each)\n",
      "5.54 ms ± 1.14 ms per loop (mean ± std. dev. of 5 runs, 1 loop each)\n"
     ]
    }
   ],
   "source": [
    "### Let's check speed on small list (2**16 length)\n",
    "%timeit -r5 -n1 c_prefix_sum(b)\n",
    "%timeit -r5 -n1 c_parallel_prefix_sum(b, max_cores=1)\n",
    "%timeit -r5 -n1 c_parallel_prefix_sum(b, max_cores=8)"
   ]
  },
  {
   "cell_type": "code",
   "execution_count": 8,
   "metadata": {},
   "outputs": [],
   "source": [
    "### When working in more then 1 thread it need some time to start them - so 1 thread works faster"
   ]
  },
  {
   "cell_type": "code",
   "execution_count": 9,
   "metadata": {},
   "outputs": [
    {
     "name": "stdout",
     "output_type": "stream",
     "text": [
      "186 ms ± 8.56 ms per loop (mean ± std. dev. of 5 runs, 1 loop each)\n",
      "138 ms ± 2.71 ms per loop (mean ± std. dev. of 5 runs, 1 loop each)\n",
      "47.5 ms ± 3.43 ms per loop (mean ± std. dev. of 5 runs, 1 loop each)\n"
     ]
    }
   ],
   "source": [
    "### Let's look at bigger list (2**22 length)\n",
    "%timeit -r5 -n1 c_prefix_sum(c)\n",
    "%timeit -r5 -n1 c_parallel_prefix_sum(c, max_cores=1)\n",
    "%timeit -r5 -n1 c_parallel_prefix_sum(c, max_cores=8)"
   ]
  },
  {
   "cell_type": "code",
   "execution_count": 10,
   "metadata": {},
   "outputs": [],
   "source": [
    "### Parallel version with 1 thread works slightly faster, and with 8 threads on small array works 2.5 times faster"
   ]
  },
  {
   "cell_type": "code",
   "execution_count": 11,
   "metadata": {},
   "outputs": [
    {
     "name": "stdout",
     "output_type": "stream",
     "text": [
      "13.8 s ± 229 ms per loop (mean ± std. dev. of 2 runs, 1 loop each)\n",
      "9.71 s ± 169 ms per loop (mean ± std. dev. of 2 runs, 1 loop each)\n",
      "3.98 s ± 6.44 ms per loop (mean ± std. dev. of 2 runs, 1 loop each)\n"
     ]
    }
   ],
   "source": [
    "### Let's check on much longer list (2**28):\n",
    "%timeit -r2 -n1 c_prefix_sum(d)\n",
    "%timeit -r2 -n1 c_parallel_prefix_sum(d, max_cores=1)\n",
    "%timeit -r2 -n1 c_parallel_prefix_sum(d, max_cores=8)"
   ]
  },
  {
   "cell_type": "code",
   "execution_count": 13,
   "metadata": {},
   "outputs": [],
   "source": [
    "### On much bigger list it still works 2.5 times faster\n",
    "\n",
    "### Let's check that everything is correct:"
   ]
  },
  {
   "cell_type": "code",
   "execution_count": 14,
   "metadata": {},
   "outputs": [
    {
     "data": {
      "text/plain": [
       "10746413211"
      ]
     },
     "execution_count": 14,
     "metadata": {},
     "output_type": "execute_result"
    }
   ],
   "source": [
    "np.sum(c_prefix_sum(b))"
   ]
  },
  {
   "cell_type": "code",
   "execution_count": 15,
   "metadata": {},
   "outputs": [
    {
     "data": {
      "text/plain": [
       "10746413211"
      ]
     },
     "execution_count": 15,
     "metadata": {},
     "output_type": "execute_result"
    }
   ],
   "source": [
    "np.sum(c_parallel_prefix_sum(b))"
   ]
  },
  {
   "cell_type": "code",
   "execution_count": 16,
   "metadata": {},
   "outputs": [
    {
     "data": {
      "text/plain": [
       "array([ 0,  5, 11, 15, 20, 21, 28, 35, 36, 45], dtype=int32)"
      ]
     },
     "execution_count": 16,
     "metadata": {},
     "output_type": "execute_result"
    }
   ],
   "source": [
    "c_prefix_sum(b)[0:10]"
   ]
  },
  {
   "cell_type": "code",
   "execution_count": 17,
   "metadata": {},
   "outputs": [
    {
     "data": {
      "text/plain": [
       "array([ 0,  5, 11, 15, 20, 21, 28, 35, 36, 45], dtype=int32)"
      ]
     },
     "execution_count": 17,
     "metadata": {},
     "output_type": "execute_result"
    }
   ],
   "source": [
    "c_parallel_prefix_sum(b)[0:10]"
   ]
  },
  {
   "cell_type": "code",
   "execution_count": null,
   "metadata": {},
   "outputs": [],
   "source": []
  }
 ],
 "metadata": {
  "kernelspec": {
   "display_name": "Python 3",
   "language": "python",
   "name": "python3"
  },
  "language_info": {
   "codemirror_mode": {
    "name": "ipython",
    "version": 3
   },
   "file_extension": ".py",
   "mimetype": "text/x-python",
   "name": "python",
   "nbconvert_exporter": "python",
   "pygments_lexer": "ipython3",
   "version": "3.6.4"
  }
 },
 "nbformat": 4,
 "nbformat_minor": 2
}
