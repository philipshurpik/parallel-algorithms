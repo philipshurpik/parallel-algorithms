{
 "cells": [
  {
   "cell_type": "code",
   "execution_count": 1,
   "metadata": {},
   "outputs": [],
   "source": [
    "import math\n",
    "import numpy as np"
   ]
  },
  {
   "cell_type": "code",
   "execution_count": 2,
   "metadata": {},
   "outputs": [],
   "source": [
    "def prefix_sum(a):\n",
    "    b = np.zeros(len(a) + 1, dtype=np.int32)\n",
    "    for i in range(len(a)):\n",
    "        b[i+1] = b[i] + a[i]\n",
    "    return b"
   ]
  },
  {
   "cell_type": "code",
   "execution_count": 3,
   "metadata": {},
   "outputs": [],
   "source": [
    "a = np.array([3, 5, 3, 1, 6])\n",
    "b = np.random.randint(1, 10, 2**16, dtype=np.int32)\n",
    "c = np.random.randint(1, 10, 2**22, dtype=np.int32)"
   ]
  },
  {
   "cell_type": "code",
   "execution_count": 4,
   "metadata": {},
   "outputs": [
    {
     "name": "stdout",
     "output_type": "stream",
     "text": [
      "1.7 s ± 10.6 ms per loop (mean ± std. dev. of 2 runs, 1 loop each)\n"
     ]
    }
   ],
   "source": [
    "%timeit -r2 -n1 prefix_sum(c)"
   ]
  },
  {
   "cell_type": "code",
   "execution_count": 5,
   "metadata": {},
   "outputs": [],
   "source": [
    "#### Parallel prefix sum in python WITHOUT THREADS ####"
   ]
  },
  {
   "cell_type": "code",
   "execution_count": 8,
   "metadata": {},
   "outputs": [],
   "source": [
    "def summator(array, level, elements):\n",
    "    for sum_index in elements:\n",
    "        array[sum_index] = array[sum_index] + array[sum_index - pow(2, (level-1))]\n",
    "    return array\n",
    "\n",
    "\n",
    "def down_summator(array, level, elements):\n",
    "    for sum_index in elements:\n",
    "        val = array[sum_index]\n",
    "        array[sum_index] = array[sum_index] + array[sum_index - pow(2, (level-1))]\n",
    "        array[sum_index - pow(2, (level-1))] = val\n",
    "    return array\n",
    "\n",
    "\n",
    "def process(array, func, start, end, inc, max_cores):\n",
    "    length = len(array)\n",
    "    for level in range(start, end, inc):\n",
    "        processing_field = pow(2, level)\n",
    "        core_number = int(length / processing_field)\n",
    "        if core_number > max_cores:\n",
    "            core_number = max_cores\n",
    "            processing_field = int(length / core_number)\n",
    "        #print(\"Level:\", level, \" Used cores:\", core_number)\n",
    "        for core in range(core_number):\n",
    "            lbound = processing_field * core\n",
    "            rbound = processing_field * (core + 1)\n",
    "            elements = range(lbound + pow(2, level) - 1, rbound, pow(2, level))\n",
    "            #print(\"Level:\", level, \"   Core: \", core, \"   Processing_field: \", processing_field, \"   L: \", lbound, \"   R: \", rbound, elements)\n",
    "            func(array, level, elements)\n",
    "    return array\n",
    "\n",
    "\n",
    "def shift_bit_length(x):\n",
    "    return 1 << (x-1).bit_length()\n",
    "\n",
    "\n",
    "def pad(array):\n",
    "    pad_left = shift_bit_length(len(array)) - len(array)\n",
    "    return np.pad(array, (pad_left, 0), mode='constant')\n",
    "\n",
    "\n",
    "def parallel_prefix_sum(array, max_cores=8):\n",
    "    length = len(array)\n",
    "    depth = math.ceil(math.log(length, 2))\n",
    "    #print(\"Depth:\", depth)\n",
    "\n",
    "    b = np.copy(array)\n",
    "    b = process(b, summator, start=1, end=depth + 1, inc=1, max_cores=max_cores)\n",
    "    b = np.insert(b, length - 1, 0)\n",
    "    #print(\"After summator:\", b)\n",
    "    b = process(b, down_summator, start=depth, end=0, inc=-1, max_cores=max_cores)\n",
    "    #print(\"After down summator:\", b)\n",
    "    return b"
   ]
  },
  {
   "cell_type": "code",
   "execution_count": 9,
   "metadata": {},
   "outputs": [
    {
     "name": "stdout",
     "output_type": "stream",
     "text": [
      "8.66 s ± 90.1 ms per loop (mean ± std. dev. of 2 runs, 1 loop each)\n"
     ]
    }
   ],
   "source": [
    "%timeit -r2 -n1 parallel_prefix_sum(c)"
   ]
  },
  {
   "cell_type": "code",
   "execution_count": 13,
   "metadata": {},
   "outputs": [],
   "source": [
    "### Just simple prefix sum works much faster because it don't need all calculation overhead\n",
    "### Here I don't used multiprocessing because of GIL it will work even more slowly\n",
    "\n",
    "### Let's check that everything was calculated successfully:"
   ]
  },
  {
   "cell_type": "code",
   "execution_count": 14,
   "metadata": {},
   "outputs": [
    {
     "data": {
      "text/plain": [
       "10753681620"
      ]
     },
     "execution_count": 14,
     "metadata": {},
     "output_type": "execute_result"
    }
   ],
   "source": [
    "np.sum(prefix_sum(b))"
   ]
  },
  {
   "cell_type": "code",
   "execution_count": 15,
   "metadata": {},
   "outputs": [
    {
     "data": {
      "text/plain": [
       "10753681620"
      ]
     },
     "execution_count": 15,
     "metadata": {},
     "output_type": "execute_result"
    }
   ],
   "source": [
    "np.sum(parallel_prefix_sum(b))"
   ]
  },
  {
   "cell_type": "code",
   "execution_count": 17,
   "metadata": {},
   "outputs": [
    {
     "data": {
      "text/plain": [
       "array([ 0,  4,  8, 14, 22, 31, 37, 39, 40, 49, 55, 58], dtype=int32)"
      ]
     },
     "execution_count": 17,
     "metadata": {},
     "output_type": "execute_result"
    }
   ],
   "source": [
    "prefix_sum(b)[0:12]"
   ]
  },
  {
   "cell_type": "code",
   "execution_count": 19,
   "metadata": {},
   "outputs": [
    {
     "data": {
      "text/plain": [
       "array([ 0,  4,  8, 14, 22, 31, 37, 39, 40, 49, 55, 58], dtype=int32)"
      ]
     },
     "execution_count": 19,
     "metadata": {},
     "output_type": "execute_result"
    }
   ],
   "source": [
    "parallel_prefix_sum(b)[0:12]"
   ]
  },
  {
   "cell_type": "code",
   "execution_count": null,
   "metadata": {},
   "outputs": [],
   "source": []
  }
 ],
 "metadata": {
  "kernelspec": {
   "display_name": "Python 3",
   "language": "python",
   "name": "python3"
  },
  "language_info": {
   "codemirror_mode": {
    "name": "ipython",
    "version": 3
   },
   "file_extension": ".py",
   "mimetype": "text/x-python",
   "name": "python",
   "nbconvert_exporter": "python",
   "pygments_lexer": "ipython3",
   "version": "3.6.4"
  }
 },
 "nbformat": 4,
 "nbformat_minor": 2
}
